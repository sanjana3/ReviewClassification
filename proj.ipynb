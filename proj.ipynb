{
 "cells": [
  {
   "cell_type": "code",
   "execution_count": 69,
   "metadata": {},
   "outputs": [],
   "source": [
    "import pandas as pd\n",
    "import numpy as np\n",
    "import matplotlib.pyplot as plt\n",
    "import pickle\n",
    "from sklearn.feature_extraction.text import CountVectorizer, TfidfVectorizer\n",
    "from sklearn.decomposition import TruncatedSVD\n",
    "import random\n",
    "from sklearn.model_selection import train_test_split\n",
    "from sklearn.neighbors import KNeighborsClassifier\n"
   ]
  },
  {
   "cell_type": "code",
   "execution_count": 440,
   "metadata": {},
   "outputs": [],
   "source": [
    "def _retData(file):\n",
    "    dout = open('review_data.pkl', 'rb')\n",
    "    data = pickle.load(dout)\n",
    "    dout.close()\n",
    "    trainDF = pd.DataFrame()\n",
    "    trainDF['text'] = data['reviewText']\n",
    "    trainDF['labels'] = data['overall']\n",
    "    data_sample = trainDF.sample(frac=0.06, replace=False)\n",
    "    return data_sample"
   ]
  },
  {
   "cell_type": "code",
   "execution_count": 455,
   "metadata": {},
   "outputs": [],
   "source": [
    "def _vectorizers(which, df, what, Cvec):\n",
    "    \n",
    "    if what == 'train':\n",
    "        if which=='cv':\n",
    "            \n",
    "            cvec_train = Cvec.transform(df['text'])\n",
    "            penkiDF = pd.DataFrame(cvec_train.toarray())\n",
    "            penkiDF['labels'] = df['labels'].values\n",
    "            return penkiDF\n",
    "\n",
    "        if which=='tf':\n",
    "            \n",
    "            train_tf = tfidf_vec.transform(df['text'])\n",
    "            penkiDF_tf = pd.DataFrame(train_tf.toarray())\n",
    "            penkiDF_tf['labels'] = df['labels'].values\n",
    "            return penkiDF_tf\n",
    "        \n",
    "    if what == 'test':\n",
    "        if which=='cv':\n",
    "            \n",
    "            cvec_test = Cvec.transform(df['test'])\n",
    "            testDF = pd.DataFrame(cvec_test.toarray())\n",
    "            return testDF\n",
    "        \n",
    "        if which=='tf':\n",
    "            \n",
    "            test_tf = tfidf_vec.transform(df['test'])\n",
    "            test_df = pd.DataFrame(test_tf.toarray())\n",
    "            return test_df"
   ]
  },
  {
   "cell_type": "code",
   "execution_count": 456,
   "metadata": {},
   "outputs": [],
   "source": [
    "def _labeling(df):\n",
    "    \n",
    "    lis = df['labels'].values\n",
    "    final = np.zeros(len(lis))\n",
    "    \n",
    "    for i in range(len(lis)):\n",
    "        if(lis[i] == 1 or lis[i] == 2):\n",
    "            final[i] = 1\n",
    "        if(lis[i] == 3):\n",
    "            final[i] = 2\n",
    "        if(lis[i] == 4 or lis[i] == 5):\n",
    "            final[i] = 3\n",
    "    \n",
    "    df['labels'] = pd.DataFrame(final).values\n",
    "    return df"
   ]
  },
  {
   "cell_type": "code",
   "execution_count": 457,
   "metadata": {},
   "outputs": [],
   "source": [
    "def _createModel(data, which):\n",
    "    \n",
    "    df1 = _labeling(data)\n",
    "    if which =='cv':\n",
    "        Cvec = CountVectorizer(analyzer='word', token_pattern=r'\\w{1,}', max_features=n_feat).fit(data['text'])\n",
    "        df = _vectorizers(which, df1, 'train', Cvec )\n",
    "        \n",
    "    if which == 'tf':\n",
    "        tfidf_vec = TfidfVectorizer(analyzer='word', token_pattern=r'\\w{1,}', max_features=n_feat).fit(data['text'])\n",
    "        df = _vectorizers(which, df1, 'train', tfidf_vec )\n",
    "    \n",
    "\n",
    "    return df\n",
    "    "
   ]
  },
  {
   "cell_type": "code",
   "execution_count": 463,
   "metadata": {},
   "outputs": [],
   "source": [
    "def _knn(n_neigh, n_feat, dataframe):\n",
    "\n",
    "    knn = KNeighborsClassifier(n_neighbors=n_neigh).fit(dataframe.iloc[:,0:n_feat:1],dataframe['labels'])\n",
    "    filename = 'knn.pkl'\n",
    "    pickle.dump(knn, open(filename, 'wb'))\n",
    "    return knn"
   ]
  },
  {
   "cell_type": "code",
   "execution_count": 480,
   "metadata": {},
   "outputs": [],
   "source": [
    "def predict_knn(model, text, which):\n",
    "    \n",
    "    rev = pd.DataFrame(text, columns=['test'])\n",
    "    if which == 'cv':\n",
    "        vecs = _vectorizers(which, rev, 'test', Cvec )\n",
    "    if which == 'tf':\n",
    "        vecs = _vectorizers(which, rev, 'test', tfidf_vec )\n",
    "        \n",
    "    return model.predict(vecs)\n"
   ]
  },
  {
   "cell_type": "code",
   "execution_count": 483,
   "metadata": {},
   "outputs": [],
   "source": [
    "def _start():\n",
    "    filename = 'review_data.pkl'\n",
    "    data_sample = _retData(filename)\n",
    "    dataframe = _createModel(data_sample, 'cv')\n",
    "    return dataframe\n",
    "\n",
    "\n"
   ]
  },
  {
   "cell_type": "code",
   "execution_count": 495,
   "metadata": {},
   "outputs": [
    {
     "name": "stdout",
     "output_type": "stream",
     "text": [
      "[2. 3.]\n"
     ]
    }
   ],
   "source": [
    "if __name__ == '__main__':\n",
    "    _strat()\n",
    "    n_feat = 1000\n",
    "    n_neigh = 3\n",
    "    knn = _knn(n_neigh, n_feat, dataframe)\n",
    "    which = 'cv'\n",
    "    text = ['This bat cracked after two months\\\n",
    "        of light use since our league this \\\n",
    "        year still allowed the mako bats. Not worth the money and this isn’t the first one of these I \\\n",
    "        have seen crack this season.','I like the product but I discovered that there must be a lot of settling of the powder \\\n",
    "        because the canister appears to be about half full when first opened. . \\\n",
    "        I did not get the listed number of servings per canister so I weighed how much the provided green scoop delivers and \\\n",
    "        discovered that it provided 1/3 more product by weight than what was labeled on the \"serving size\". So just fill the \\\n",
    "        scoop 2/3 full or use a smaller scoop....that is what I did. I wrote the company but they did not seem to think \\\n",
    "        it was a problem. I did. When you use the correct amount it mixes and tastes much better.']\n",
    "    print(predict_knn(knn, text, which))"
   ]
  },
  {
   "cell_type": "markdown",
   "metadata": {},
   "source": []
  }
 ],
 "metadata": {
  "kernelspec": {
   "display_name": "Python 3",
   "language": "python",
   "name": "python3"
  },
  "language_info": {
   "codemirror_mode": {
    "name": "ipython",
    "version": 3
   },
   "file_extension": ".py",
   "mimetype": "text/x-python",
   "name": "python",
   "nbconvert_exporter": "python",
   "pygments_lexer": "ipython3",
   "version": "3.6.5"
  }
 },
 "nbformat": 4,
 "nbformat_minor": 2
}
